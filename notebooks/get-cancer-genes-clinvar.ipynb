{
 "cells": [
  {
   "cell_type": "markdown",
   "source": [
    "Init variables"
   ],
   "metadata": {
    "collapsed": false
   }
  },
  {
   "cell_type": "code",
   "execution_count": 21,
   "outputs": [],
   "source": [
    "data_root = \"../data\"\n",
    "\n",
    "clin_var = f\"{data_root}/clinvar.vcf.gz\"\n",
    "brca = f\"{data_root}/brca.vcf\"\n",
    "targeted_vcf = f\"{data_root}/targeted.vcf\"\n"
   ],
   "metadata": {
    "collapsed": false,
    "ExecuteTime": {
     "start_time": "2023-07-01T12:35:01.456955Z",
     "end_time": "2023-07-01T12:35:01.544356Z"
    }
   }
  },
  {
   "cell_type": "raw",
   "source": [
    "Get clinvar database"
   ],
   "metadata": {
    "collapsed": false
   }
  },
  {
   "cell_type": "code",
   "execution_count": 26,
   "outputs": [],
   "source": [
    "import requests\n",
    "import os\n",
    "\n",
    "# URL for the ClinVar VCF file for the BRCA1 and BRCA2 genes\n",
    "url = \"https://ftp.ncbi.nlm.nih.gov/pub/clinvar/vcf_GRCh37/clinvar.vcf.gz\"\n",
    "\n",
    "if not os.path.isfile(clin_var):\n",
    "    # Send a GET request to the URL\n",
    "    response = requests.get(url)\n",
    "    # Save the response content as a .vcf.gz file\n",
    "    with open(clin_var, 'wb') as f:\n",
    "        f.write(response.content)"
   ],
   "metadata": {
    "collapsed": false,
    "ExecuteTime": {
     "start_time": "2023-07-01T12:37:50.860077Z",
     "end_time": "2023-07-01T12:38:06.914522Z"
    }
   }
  },
  {
   "cell_type": "markdown",
   "source": [
    "Extract gene related data"
   ],
   "metadata": {
    "collapsed": false
   }
  },
  {
   "cell_type": "code",
   "execution_count": 27,
   "outputs": [
    {
     "name": "stdout",
     "output_type": "stream",
     "text": [
      "['AF_ESP', 'AF_EXAC', 'AF_TGP', 'ALLELEID', 'CLNDN', 'CLNDNINCL', 'CLNDISDB', 'CLNDISDBINCL', 'CLNHGVS', 'CLNREVSTAT', 'CLNSIG', 'CLNSIGCONF', 'CLNSIGINCL', 'CLNVC', 'CLNVCSO', 'CLNVI', 'DBVARID', 'GENEINFO', 'MC', 'ORIGIN', 'RS']\n"
     ]
    }
   ],
   "source": [
    "import pysam\n",
    "import os\n",
    "\n",
    "# Index the ClinVar VCF file\n",
    "if not os.path.isfile(f\"{clin_var}.tbi\"):\n",
    "    pysam.tabix_index(clin_var, preset=\"vcf\")\n",
    "\n",
    "# Open the ClinVar VCF file\n",
    "vcf = pysam.VariantFile(clin_var)\n",
    "print(vcf.header.info.keys())\n",
    "# Open an output VCF file\n",
    "out = pysam.VariantFile(brca, 'w', header=vcf.header)\n",
    "\n",
    "# Loop over the records in the VCF file\n",
    "for record in vcf:\n",
    "    if not 'GENEINFO' in record.info.keys():\n",
    "        continue\n",
    "    # Check if the record is for the BRCA1 or BRCA2 gene\n",
    "    if 'BRCA1' in record.info['GENEINFO'] or 'BRCA2' in record.info['GENEINFO']:\n",
    "        # Write the record to the output file\n",
    "        out.write(record)\n",
    "\n",
    "# Close the VCF files\n",
    "vcf.close()\n",
    "out.close()\n"
   ],
   "metadata": {
    "collapsed": false,
    "ExecuteTime": {
     "start_time": "2023-07-01T12:38:41.355622Z",
     "end_time": "2023-07-01T12:39:22.647646Z"
    }
   }
  },
  {
   "cell_type": "markdown",
   "source": [
    "Get cancer related genes"
   ],
   "metadata": {
    "collapsed": false
   }
  },
  {
   "cell_type": "code",
   "execution_count": 43,
   "outputs": [
    {
     "name": "stdout",
     "output_type": "stream",
     "text": [
      "Deletion, Benign detected: chr13 32900363 CT ('C',)\n",
      "Deletion, Benign/Likely_benign detected: chr13 32903565 AT ('A',)\n",
      "Deletion, Likely_benign detected: chr13 32905046 AT ('A',)\n",
      "Deletion, Pathogenic detected: chr13 32905069 AT ('A',)\n",
      "Deletion, Pathogenic detected: chr13 32905097 GA ('G',)\n",
      "Deletion, Pathogenic detected: chr13 32906602 GA ('G',)\n",
      "Deletion, Pathogenic detected: chr13 32906663 GA ('G',)\n",
      "Deletion, Pathogenic detected: chr13 32906694 CA ('C',)\n",
      "Indel, Pathogenic detected: chr13 32906729 A ('G',)\n",
      "single_nucleotide_variant, Conflicting_interpretations_of_pathogenicity detected: chr13 32906733 A ('G',)\n",
      "Deletion, Pathogenic detected: chr13 32907171 GT ('G',)\n",
      "Deletion, Pathogenic detected: chr13 32907420 GA ('G',)\n",
      "Deletion, Pathogenic detected: chr13 32911073 CA ('C',)\n",
      "single_nucleotide_variant, Benign detected: chr13 32911888 A ('G',)\n",
      "Deletion, Pathogenic detected: chr13 32912345 GA ('G',)\n",
      "Deletion, Pathogenic detected: chr13 32912770 AT ('A',)\n",
      "Indel, Conflicting_interpretations_of_pathogenicity detected: chr13 32913055 A ('G',)\n",
      "Deletion, Pathogenic detected: chr13 32913391 CT ('C',)\n",
      "Deletion, Pathogenic detected: chr13 32913558 CA ('C',)\n",
      "Deletion, Uncertain_significance detected: chr13 32913836 CA ('C',)\n",
      "Deletion, Pathogenic detected: chr13 32913952 CA ('C',)\n",
      "Deletion, Pathogenic detected: chr13 32914250 GT ('G',)\n",
      "Deletion, Pathogenic detected: chr13 32914859 GA ('G',)\n",
      "Deletion, Pathogenic detected: chr13 32915005 G ('C',)\n",
      "Deletion, Pathogenic detected: chr13 32915249 CT ('C',)\n",
      "Deletion, Pathogenic detected: chr13 32929095 GA ('G',)\n",
      "Deletion, Pathogenic detected: chr13 32929161 GA ('G',)\n",
      "Deletion, Pathogenic detected: chr13 32929216 CT ('C',)\n",
      "single_nucleotide_variant, Likely_benign detected: chr13 32929232 A ('G',)\n",
      "Indel, Likely_benign detected: chr13 32929387 T ('C',)\n",
      "Deletion, Pathogenic detected: chr13 32930667 CA ('C',)\n",
      "Deletion, Likely_pathogenic detected: chr13 32931961 AT ('A',)\n",
      "Indel, Likely_benign detected: chr13 32936646 T ('C',)\n",
      "single_nucleotide_variant, Benign detected: chr13 32953388 T ('C',)\n",
      "Deletion, Pathogenic detected: chr13 32954022 CA ('C',)\n",
      "Deletion, Pathogenic detected: chr13 32954185 GC ('G',)\n",
      "Deletion, Pathogenic detected: chr13 32954272 GA ('G',)\n",
      "Deletion, Likely_benign detected: chr13 32954302 AT ('A',)\n",
      "Deletion, Likely_pathogenic detected: chr13 32972445 CA ('C',)\n",
      "Deletion, Pathogenic detected: chr13 32972892 TA ('T',)\n",
      "Deletion, Pathogenic/Likely_pathogenic detected: chr17 41234421 CT ('C',)\n",
      "Deletion, Pathogenic detected: chr17 41244333 AG ('A',)\n",
      "Deletion, Pathogenic detected: chr17 41245586 CT ('C',)\n",
      "Deletion, Pathogenic detected: chr17 41245693 GC ('G',)\n",
      "Deletion, Pathogenic detected: chr17 41245819 CT ('C',)\n",
      "Deletion, Pathogenic detected: chr17 41246508 AG ('A',)\n",
      "Deletion, Likely_pathogenic detected: chr17 41246531 CT ('C',)\n",
      "Deletion, Benign detected: chr17 41249323 CA ('C',)\n",
      "Deletion, Pathogenic detected: chr17 41258473 CT ('C',)\n",
      "Deletion, Benign/Likely_benign detected: chr17 41267807 AG ('A',)\n"
     ]
    }
   ],
   "source": [
    "import pysam\n",
    "\n",
    "# Open the patient's VCF file and the BRCA VCF file from ClinVar\n",
    "vcf_patient = pysam.VariantFile(targeted_vcf)\n",
    "vcf_brca = pysam.VariantFile(brca)\n",
    "\n",
    "# Create a set to store cancer-associated mutations\n",
    "cancer_mutations = set()\n",
    "cancer_mutations_map = {}\n",
    "\n",
    "# Iterate over variants in the BRCA VCF file and add cancer-associated mutations to the 'cancer_mutations' set\n",
    "for record in vcf_brca:\n",
    "    clnsig = record.info.get('CLNSIG')\n",
    "    mutation_type = record.info.get('CLNVC')\n",
    "    classification = clnsig[0].split(':')[0] if clnsig else None\n",
    "    cancer_mutations.add((record.chrom, record.pos, record.ref, record.alts))\n",
    "    cancer_mutations_map[f\"{record.chrom}_{record.pos}\"] = f\"{mutation_type}, {classification}\"\n",
    "\n",
    "# Iterate over variants in the patient's VCF file and check for cancer-associated mutations\n",
    "for record in vcf_patient:\n",
    "    row = record.chrom.replace('chr', ''), record.pos, record.ref, record.alts\n",
    "    if row in cancer_mutations:\n",
    "        print(cancer_mutations_map[f\"{record.chrom.replace('chr', '')}_{record.pos}\"], \"detected:\", record.chrom, record.pos, record.ref, record.alts)\n"
   ],
   "metadata": {
    "collapsed": false,
    "ExecuteTime": {
     "start_time": "2023-07-01T12:53:11.981349Z",
     "end_time": "2023-07-01T12:53:12.510316Z"
    }
   }
  },
  {
   "cell_type": "markdown",
   "source": [],
   "metadata": {
    "collapsed": false
   }
  }
 ],
 "metadata": {
  "kernelspec": {
   "display_name": "Python 3",
   "language": "python",
   "name": "python3"
  },
  "language_info": {
   "codemirror_mode": {
    "name": "ipython",
    "version": 2
   },
   "file_extension": ".py",
   "mimetype": "text/x-python",
   "name": "python",
   "nbconvert_exporter": "python",
   "pygments_lexer": "ipython2",
   "version": "2.7.6"
  }
 },
 "nbformat": 4,
 "nbformat_minor": 0
}

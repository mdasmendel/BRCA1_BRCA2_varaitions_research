{
 "cells": [
  {
   "cell_type": "markdown",
   "metadata": {},
   "source": [
    "Import and declare variables"
   ]
  },
  {
   "cell_type": "code",
   "execution_count": 24,
   "metadata": {
    "ExecuteTime": {
     "start_time": "2023-07-01T10:53:20.477868Z",
     "end_time": "2023-07-01T10:53:20.487555Z"
    }
   },
   "outputs": [],
   "source": [
    "import subprocess\n",
    "import os\n",
    "\n",
    "data_root = \"../data\"\n",
    "\n",
    "full_reference_genome = f\"{data_root}/hg19.fasta\"\n",
    "reference_genome = f\"{data_root}/hg19_targeted.fasta\"\n",
    "reference_genome_dict = f\"{data_root}/hg19_targeted.dict\"\n",
    "reference_genome_fai = f\"{data_root}/hg19_targeted.fasta.fai\"\n",
    "full_input_bam = f\"{data_root}/input_reads.bam\"\n",
    "input_bam = f\"{data_root}/input_reads_targeted.bam\"\n",
    "input_sam = f\"{data_root}/input_reads_targeted.sam\"\n",
    "output_vcf = f\"{data_root}/output.vcf\"\n",
    "genes_location = f\"{data_root}/location.bed\"\n",
    "\n",
    "if not os.path.isfile(full_reference_genome):\n",
    "    raise FileNotFoundError(\"reference genome is missing, add it please\")\n",
    "if not os.path.isfile(full_input_bam):\n",
    "    raise FileNotFoundError(\"patient input bam file is missing, add it please\")"
   ]
  },
  {
   "cell_type": "markdown",
   "source": [
    "Define gene locations"
   ],
   "metadata": {
    "collapsed": false
   }
  },
  {
   "cell_type": "code",
   "execution_count": 19,
   "outputs": [],
   "source": [
    "import pybedtools\n",
    "if not os.path.isfile(genes_location):\n",
    "    brca1_coordinates = pybedtools.create_interval_from_list([\"chr17\", \"43044295\", \"43125482\"])\n",
    "    brca2_coordinates = pybedtools.create_interval_from_list([\"chr13\", \"32315474\", \"32400266\"])\n",
    "    regions = [brca1_coordinates, brca2_coordinates]\n",
    "    pybedtools.BedTool(regions).saveas(genes_location)"
   ],
   "metadata": {
    "collapsed": false,
    "ExecuteTime": {
     "start_time": "2023-07-01T10:52:15.760834Z",
     "end_time": "2023-07-01T10:52:15.769807Z"
    }
   }
  },
  {
   "cell_type": "markdown",
   "source": [
    "Extract target zone from reference genome"
   ],
   "metadata": {
    "collapsed": false
   }
  },
  {
   "cell_type": "code",
   "execution_count": 20,
   "outputs": [
    {
     "data": {
      "text/plain": "CompletedProcess(args=['bedtools getfasta -fi ../data/hg19.fasta -bed ../data/location.bed -fo ../data/hg19_targeted.fasta'], returncode=0)"
     },
     "execution_count": 20,
     "metadata": {},
     "output_type": "execute_result"
    }
   ],
   "source": [
    "import subprocess\n",
    "subprocess.run([f\"bedtools getfasta -fi {full_reference_genome} -bed {genes_location} -fo {reference_genome}\"], shell=True)"
   ],
   "metadata": {
    "collapsed": false,
    "ExecuteTime": {
     "start_time": "2023-07-01T10:52:21.248022Z",
     "end_time": "2023-07-01T10:52:21.279768Z"
    }
   }
  },
  {
   "cell_type": "markdown",
   "source": [
    "Extract target zones from patient genome"
   ],
   "metadata": {
    "collapsed": false
   }
  },
  {
   "cell_type": "code",
   "execution_count": 21,
   "outputs": [
    {
     "data": {
      "text/plain": "CompletedProcess(args=['bedtools intersect -a ../data/input_reads.bam -b ../data/location.bed > ../data/input_reads_targeted.bam'], returncode=0)"
     },
     "execution_count": 21,
     "metadata": {},
     "output_type": "execute_result"
    }
   ],
   "source": [
    "import subprocess\n",
    "subprocess.run([f\"bedtools intersect -a {full_input_bam} -b {genes_location} > {input_bam}\"], shell=True)"
   ],
   "metadata": {
    "collapsed": false,
    "ExecuteTime": {
     "start_time": "2023-07-01T10:52:25.492612Z",
     "end_time": "2023-07-01T10:52:40.157834Z"
    }
   }
  },
  {
   "cell_type": "markdown",
   "source": [
    "Generate sam from bam for visual check"
   ],
   "metadata": {
    "collapsed": false
   }
  },
  {
   "cell_type": "code",
   "execution_count": 27,
   "outputs": [],
   "source": [
    "import pysam\n",
    "bam_file = pysam.AlignmentFile(input_bam, 'rb')\n",
    "sam_file = pysam.AlignmentFile(input_sam, 'wh', header=bam_file.header)\n",
    "for alignment in bam_file:\n",
    "    sam_file.write(alignment)\n",
    "bam_file.close()\n",
    "sam_file.close()"
   ],
   "metadata": {
    "collapsed": false,
    "ExecuteTime": {
     "start_time": "2023-07-01T10:56:38.679932Z",
     "end_time": "2023-07-01T10:56:38.719968Z"
    }
   }
  },
  {
   "cell_type": "raw",
   "metadata": {},
   "source": [
    "Indexing the reference genome"
   ]
  },
  {
   "cell_type": "code",
   "execution_count": 28,
   "metadata": {
    "ExecuteTime": {
     "start_time": "2023-07-01T10:57:31.581274Z",
     "end_time": "2023-07-01T10:57:31.590543Z"
    }
   },
   "outputs": [],
   "source": [
    "if not os.path.isfile(reference_genome_fai):\n",
    "    subprocess.run([f\"samtools faidx {reference_genome}\"], shell=True)"
   ]
  },
  {
   "cell_type": "markdown",
   "source": [
    "Indexing the input bam file"
   ],
   "metadata": {
    "collapsed": false
   }
  },
  {
   "cell_type": "code",
   "execution_count": 29,
   "outputs": [
    {
     "data": {
      "text/plain": "CompletedProcess(args=['samtools index ../data/input_reads_targeted.bam'], returncode=0)"
     },
     "execution_count": 29,
     "metadata": {},
     "output_type": "execute_result"
    }
   ],
   "source": [
    "subprocess.run([f\"samtools index {input_bam}\"], shell=True)"
   ],
   "metadata": {
    "collapsed": false,
    "ExecuteTime": {
     "start_time": "2023-07-01T10:57:35.302166Z",
     "end_time": "2023-07-01T10:57:35.342823Z"
    }
   }
  },
  {
   "cell_type": "markdown",
   "source": [
    "Create dict file required for VCF file generation"
   ],
   "metadata": {
    "collapsed": false
   }
  },
  {
   "cell_type": "code",
   "execution_count": 30,
   "outputs": [
    {
     "name": "stderr",
     "output_type": "stream",
     "text": [
      "Using GATK jar /Users/dascal/opt/anaconda3/envs/mamarCancer/share/gatk4-4.4.0.0-0/gatk-package-4.4.0.0-local.jar\n",
      "Running:\n",
      "    java -Dsamjdk.use_async_io_read_samtools=false -Dsamjdk.use_async_io_write_samtools=true -Dsamjdk.use_async_io_write_tribble=false -Dsamjdk.compression_level=2 -jar /Users/dascal/opt/anaconda3/envs/mamarCancer/share/gatk4-4.4.0.0-0/gatk-package-4.4.0.0-local.jar CreateSequenceDictionary -R ../data/hg19_targeted.fasta -O ../data/hg19_targeted.dict\n",
      "10:57:44.588 INFO  NativeLibraryLoader - Loading libgkl_compression.dylib from jar:file:/Users/dascal/opt/anaconda3/envs/mamarCancer/share/gatk4-4.4.0.0-0/gatk-package-4.4.0.0-local.jar!/com/intel/gkl/native/libgkl_compression.dylib\n"
     ]
    },
    {
     "name": "stdout",
     "output_type": "stream",
     "text": [
      "Tool returned:\n",
      "0\n"
     ]
    },
    {
     "name": "stderr",
     "output_type": "stream",
     "text": [
      "[Sat Jul 01 10:57:44 EEST 2023] CreateSequenceDictionary --OUTPUT ../data/hg19_targeted.dict --REFERENCE ../data/hg19_targeted.fasta --TRUNCATE_NAMES_AT_WHITESPACE true --NUM_SEQUENCES 2147483647 --VERBOSITY INFO --QUIET false --VALIDATION_STRINGENCY STRICT --COMPRESSION_LEVEL 2 --MAX_RECORDS_IN_RAM 500000 --CREATE_INDEX false --CREATE_MD5_FILE false --help false --version false --showHidden false --USE_JDK_DEFLATER false --USE_JDK_INFLATER false\n",
      "[Sat Jul 01 10:57:44 EEST 2023] Executing as dascal@Mihais-MacBook-Pro.local on Mac OS X 12.4 x86_64; OpenJDK 64-Bit Server VM 17.0.3+7-LTS; Deflater: Intel; Inflater: Intel; Provider GCS is available; Picard version: Version:4.4.0.0\n",
      "[Sat Jul 01 10:57:45 EEST 2023] picard.sam.CreateSequenceDictionary done. Elapsed time: 0.01 minutes.\n",
      "Runtime.totalMemory()=125829120\n"
     ]
    }
   ],
   "source": [
    "if not os.path.isfile(reference_genome_dict):\n",
    "    subprocess.call([f\"gatk CreateSequenceDictionary -R {reference_genome} -O {reference_genome_dict}\"], shell=True)"
   ],
   "metadata": {
    "collapsed": false,
    "ExecuteTime": {
     "start_time": "2023-07-01T10:57:40.455372Z",
     "end_time": "2023-07-01T10:57:45.068689Z"
    }
   }
  },
  {
   "cell_type": "raw",
   "metadata": {},
   "source": [
    "variant calling and obtaining VCF file"
   ]
  },
  {
   "cell_type": "code",
   "execution_count": 31,
   "metadata": {
    "ExecuteTime": {
     "start_time": "2023-07-01T10:57:56.041133Z",
     "end_time": "2023-07-01T10:57:59.859165Z"
    }
   },
   "outputs": [
    {
     "name": "stderr",
     "output_type": "stream",
     "text": [
      "Using GATK jar /Users/dascal/opt/anaconda3/envs/mamarCancer/share/gatk4-4.4.0.0-0/gatk-package-4.4.0.0-local.jar\n",
      "Running:\n",
      "    java -Dsamjdk.use_async_io_read_samtools=false -Dsamjdk.use_async_io_write_samtools=true -Dsamjdk.use_async_io_write_tribble=false -Dsamjdk.compression_level=2 -jar /Users/dascal/opt/anaconda3/envs/mamarCancer/share/gatk4-4.4.0.0-0/gatk-package-4.4.0.0-local.jar HaplotypeCaller -R ../data/hg19_targeted.fasta -I ../data/input_reads_targeted.bam -O ../data/output.vcf\n",
      "10:57:59.322 INFO  NativeLibraryLoader - Loading libgkl_compression.dylib from jar:file:/Users/dascal/opt/anaconda3/envs/mamarCancer/share/gatk4-4.4.0.0-0/gatk-package-4.4.0.0-local.jar!/com/intel/gkl/native/libgkl_compression.dylib\n",
      "10:57:59.500 INFO  HaplotypeCaller - ------------------------------------------------------------\n",
      "10:57:59.506 INFO  HaplotypeCaller - The Genome Analysis Toolkit (GATK) v4.4.0.0\n",
      "10:57:59.506 INFO  HaplotypeCaller - For support and documentation go to https://software.broadinstitute.org/gatk/\n",
      "10:57:59.506 INFO  HaplotypeCaller - Executing as dascal@Mihais-MacBook-Pro.local on Mac OS X v12.4 x86_64\n",
      "10:57:59.507 INFO  HaplotypeCaller - Java runtime: OpenJDK 64-Bit Server VM v17.0.3+7-LTS\n",
      "10:57:59.507 INFO  HaplotypeCaller - Start Date/Time: July 1, 2023 at 10:57:59 AM EEST\n",
      "10:57:59.507 INFO  HaplotypeCaller - ------------------------------------------------------------\n",
      "10:57:59.507 INFO  HaplotypeCaller - ------------------------------------------------------------\n",
      "10:57:59.508 INFO  HaplotypeCaller - HTSJDK Version: 3.0.5\n",
      "10:57:59.509 INFO  HaplotypeCaller - Picard Version: 3.0.0\n",
      "10:57:59.509 INFO  HaplotypeCaller - Built for Spark Version: 3.3.1\n",
      "10:57:59.509 INFO  HaplotypeCaller - HTSJDK Defaults.COMPRESSION_LEVEL : 2\n",
      "10:57:59.510 INFO  HaplotypeCaller - HTSJDK Defaults.USE_ASYNC_IO_READ_FOR_SAMTOOLS : false\n",
      "10:57:59.510 INFO  HaplotypeCaller - HTSJDK Defaults.USE_ASYNC_IO_WRITE_FOR_SAMTOOLS : true\n",
      "10:57:59.510 INFO  HaplotypeCaller - HTSJDK Defaults.USE_ASYNC_IO_WRITE_FOR_TRIBBLE : false\n",
      "10:57:59.510 INFO  HaplotypeCaller - Deflater: IntelDeflater\n",
      "10:57:59.510 INFO  HaplotypeCaller - Inflater: IntelInflater\n",
      "10:57:59.511 INFO  HaplotypeCaller - GCS max retries/reopens: 20\n",
      "10:57:59.511 INFO  HaplotypeCaller - Requester pays: disabled\n",
      "10:57:59.512 INFO  HaplotypeCaller - Initializing engine\n",
      "10:57:59.802 INFO  HaplotypeCaller - Shutting down engine\n",
      "[July 1, 2023 at 10:57:59 AM EEST] org.broadinstitute.hellbender.tools.walkers.haplotypecaller.HaplotypeCaller done. Elapsed time: 0.01 minutes.\n",
      "Runtime.totalMemory()=130023424\n",
      "***********************************************************************\n",
      "\n",
      "A USER ERROR has occurred: Input files reference and reads have incompatible contigs: No overlapping contigs found.\n",
      "  reference contigs = [chr17:43044295-43125482, chr13:32315474-32400266]\n",
      "  reads contigs = [chr1, chr2, chr3, chr4, chr5, chr6, chr7, chr8, chr9, chr10, chr11, chr12, chr13, chr14, chr15, chr16, chr17, chr18, chr19, chr20, chr21, chr22, chrX, chrY, chrM]\n",
      "\n",
      "***********************************************************************\n",
      "Set the system property GATK_STACKTRACE_ON_USER_EXCEPTION (--java-options '-DGATK_STACKTRACE_ON_USER_EXCEPTION=true') to print the stack trace.\n"
     ]
    },
    {
     "data": {
      "text/plain": "2"
     },
     "execution_count": 31,
     "metadata": {},
     "output_type": "execute_result"
    }
   ],
   "source": [
    "subprocess.call([f\"gatk HaplotypeCaller -R {reference_genome} -I {input_bam} -O {output_vcf}\"], shell=True)"
   ]
  },
  {
   "cell_type": "raw",
   "source": [
    "patient VCF plting"
   ],
   "metadata": {
    "collapsed": false
   }
  },
  {
   "cell_type": "code",
   "execution_count": null,
   "metadata": {
    "ExecuteTime": {
     "start_time": "2023-06-29T20:08:24.836924Z",
     "end_time": "2023-06-29T20:08:25.179369Z"
    }
   },
   "outputs": [],
   "source": [
    "import pysam\n",
    "import matplotlib.pyplot as plt\n",
    "\n",
    "vcf_reader = pysam.VariantFile(open(output_vcf, \"r\"))\n",
    "\n",
    "# Păstrați informațiile relevante pentru grafic (de exemplu, AF - frecvența alelei alternative)\n",
    "allele_frequencies = []\n",
    "for record in vcf_reader:\n",
    "    allele_frequencies.append(record.info.get(\"AF\")[0])\n",
    "\n",
    "# Plasați graficul\n",
    "plt.plot(allele_frequencies)\n",
    "plt.xlabel(\"Variant Index\")\n",
    "plt.ylabel(\"Allele Frequency\")\n",
    "plt.title(\"VCF Variant Allele Frequency\")\n",
    "plt.show()"
   ]
  },
  {
   "cell_type": "code",
   "execution_count": null,
   "metadata": {
    "ExecuteTime": {
     "start_time": "2023-06-29T20:09:40.303134Z",
     "end_time": "2023-06-29T20:09:40.603327Z"
    }
   },
   "outputs": [],
   "source": [
    "import matplotlib.pyplot as plt\n",
    "\n",
    "# Lista pentru a stoca calitățile\n",
    "qualities = []\n",
    "\n",
    "# Citirea fișierului VCF și extragerea calităților\n",
    "with open(output_vcf, 'r') as file:\n",
    "    for line in file:\n",
    "        if not line.startswith('#'):\n",
    "            data = line.strip().split('\\t')\n",
    "            quality = float(data[5])\n",
    "            qualities.append(quality)\n",
    "\n",
    "# Crearea histogramă a calităților\n",
    "plt.hist(qualities, bins=20, edgecolor='black')\n",
    "\n",
    "# Etichetele axelor\n",
    "plt.xlabel('Quality')\n",
    "plt.ylabel('Count')\n",
    "\n",
    "# Titlul diagramei\n",
    "plt.title('Quality Histogram')\n",
    "\n",
    "# Afișarea diagramei\n",
    "plt.show()\n"
   ]
  },
  {
   "cell_type": "code",
   "execution_count": null,
   "outputs": [],
   "source": [
    "import matplotlib.pyplot as plt\n",
    "\n",
    "# Dicționar pentru a stoca frecvențele alelelor\n",
    "allele_frequencies = {}\n",
    "\n",
    "# Citirea fișierului VCF și extragerea informațiilor despre frecvențele alelelor\n",
    "with open(output_vcf, 'r') as file:\n",
    "    for line in file:\n",
    "        if not line.startswith('#'):\n",
    "            data = line.strip().split('\\t')\n",
    "            info = data[7].split(';')\n",
    "            for item in info:\n",
    "                if item.startswith('AF='):\n",
    "                    freq = item.split('=')[1]\n",
    "                    if len(item.split(',')) > 1:\n",
    "                        continue\n",
    "                    print(freq)\n",
    "                    allele_frequency = float(freq)\n",
    "                    allele_frequencies['ALT'] = allele_frequency\n",
    "                    allele_frequencies['REF'] = 1 - allele_frequency\n",
    "\n",
    "# Crearea diagramă de tip \"pie\"\n",
    "labels = ['Reference (REF)', 'Alternate (ALT)']\n",
    "sizes = [allele_frequencies['REF'], allele_frequencies['ALT']]\n",
    "colors = ['#1f77b4', '#ff7f0e']\n",
    "explode = (0.1, 0)  # Pentru a separa puțin secțiunea \"Reference\"\n",
    "\n",
    "plt.pie(sizes, explode=explode, labels=labels, colors=colors, autopct='%1.1f%%', startangle=90)\n",
    "\n",
    "# Aspectul circular\n",
    "plt.axis('equal')\n",
    "\n",
    "# Titlul diagramei\n",
    "plt.title('Allele Frequencies')\n",
    "\n",
    "# Afișarea diagramei\n",
    "plt.show()\n"
   ],
   "metadata": {
    "collapsed": false,
    "ExecuteTime": {
     "start_time": "2023-06-29T20:18:16.007270Z",
     "end_time": "2023-06-29T20:18:16.198323Z"
    }
   }
  }
 ],
 "metadata": {
  "kernelspec": {
   "display_name": "Python 3 (ipykernel)",
   "language": "python",
   "name": "python3"
  },
  "language_info": {
   "codemirror_mode": {
    "name": "ipython",
    "version": 2
   },
   "file_extension": ".py",
   "mimetype": "text/x-python",
   "name": "python",
   "nbconvert_exporter": "python",
   "pygments_lexer": "ipython2",
   "version": "2.7.6"
  }
 },
 "nbformat": 4,
 "nbformat_minor": 1
}

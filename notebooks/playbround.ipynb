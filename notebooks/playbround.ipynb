{
 "cells": [
  {
   "cell_type": "code",
   "execution_count": 1,
   "metadata": {
    "collapsed": true,
    "ExecuteTime": {
     "start_time": "2023-07-01T21:43:01.052377Z",
     "end_time": "2023-07-01T21:44:02.556644Z"
    }
   },
   "outputs": [],
   "source": [
    "import zipfile\n",
    "archive= '../data/DataBreastCancerPatients.zip'\n",
    "\n",
    "with zipfile.ZipFile(archive, 'r') as arhiva:\n",
    "    arhiva.extractall('../data')"
   ]
  },
  {
   "cell_type": "code",
   "execution_count": null,
   "outputs": [],
   "source": [],
   "metadata": {
    "collapsed": false
   }
  }
 ],
 "metadata": {
  "kernelspec": {
   "display_name": "Python 3",
   "language": "python",
   "name": "python3"
  },
  "language_info": {
   "codemirror_mode": {
    "name": "ipython",
    "version": 2
   },
   "file_extension": ".py",
   "mimetype": "text/x-python",
   "name": "python",
   "nbconvert_exporter": "python",
   "pygments_lexer": "ipython2",
   "version": "2.7.6"
  }
 },
 "nbformat": 4,
 "nbformat_minor": 0
}

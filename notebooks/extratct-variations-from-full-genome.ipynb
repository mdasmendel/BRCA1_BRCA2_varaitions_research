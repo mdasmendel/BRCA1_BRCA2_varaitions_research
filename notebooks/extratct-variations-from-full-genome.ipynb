{
 "cells": [
  {
   "cell_type": "markdown",
   "metadata": {},
   "source": [
    "Import and declare variables"
   ]
  },
  {
   "cell_type": "code",
   "execution_count": 12,
   "metadata": {
    "ExecuteTime": {
     "start_time": "2023-06-30T09:33:03.385419Z",
     "end_time": "2023-06-30T09:33:03.482632Z"
    }
   },
   "outputs": [],
   "source": [
    "import subprocess\n",
    "import os\n",
    "\n",
    "data_root = \"../data\"\n",
    "\n",
    "reference_genome = f\"{data_root}/hg19.fasta\"\n",
    "reference_genome_dict = f\"{data_root}/hg19.dict\"\n",
    "reference_genome_fai = f\"{data_root}/hg19.fai\"\n",
    "input_bam = f\"{data_root}/input_reads.bam\"\n",
    "output_vcf = f\"{data_root}/output.vcf\"\n",
    "\n",
    "if not os.path.isfile(reference_genome):\n",
    "    raise FileNotFoundError(\"reference genome is missing, add it please\")\n",
    "if not os.path.isfile(input_bam):\n",
    "    raise FileNotFoundError(\"patient input bam file is missing, add it please\")"
   ]
  },
  {
   "cell_type": "raw",
   "metadata": {},
   "source": [
    "Indexing the reference genome"
   ]
  },
  {
   "cell_type": "code",
   "execution_count": 13,
   "metadata": {
    "ExecuteTime": {
     "start_time": "2023-06-30T09:33:03.393123Z",
     "end_time": "2023-06-30T09:33:19.077011Z"
    }
   },
   "outputs": [],
   "source": [
    "if not os.path.isfile(reference_genome_fai):\n",
    "    subprocess.run([f\"samtools faidx {reference_genome}\"], shell=True)"
   ]
  },
  {
   "cell_type": "markdown",
   "source": [
    "Indexing the input bam file"
   ],
   "metadata": {
    "collapsed": false
   }
  },
  {
   "cell_type": "code",
   "execution_count": 14,
   "outputs": [
    {
     "data": {
      "text/plain": "CompletedProcess(args=['samtools index ../data/input_reads.bam'], returncode=0)"
     },
     "execution_count": 14,
     "metadata": {},
     "output_type": "execute_result"
    }
   ],
   "source": [
    "subprocess.run([f\"samtools index {input_bam}\"], shell=True)"
   ],
   "metadata": {
    "collapsed": false,
    "ExecuteTime": {
     "start_time": "2023-06-30T09:33:19.088108Z",
     "end_time": "2023-06-30T09:33:24.657692Z"
    }
   }
  },
  {
   "cell_type": "markdown",
   "source": [
    "Create dict file required for VCF file generation"
   ],
   "metadata": {
    "collapsed": false
   }
  },
  {
   "cell_type": "code",
   "execution_count": 15,
   "outputs": [],
   "source": [
    "if not os.path.isfile(reference_genome_dict):\n",
    "    subprocess.call([f\"gatk CreateSequenceDictionary -R {reference_genome} -O {reference_genome_dict}\"], shell=True)"
   ],
   "metadata": {
    "collapsed": false,
    "ExecuteTime": {
     "start_time": "2023-06-30T09:33:24.659783Z",
     "end_time": "2023-06-30T09:33:24.663717Z"
    }
   }
  },
  {
   "cell_type": "raw",
   "metadata": {},
   "source": [
    "variant calling and obtaining VCF file"
   ]
  },
  {
   "cell_type": "code",
   "execution_count": 16,
   "metadata": {
    "ExecuteTime": {
     "start_time": "2023-06-30T09:32:24.827455Z",
     "end_time": "2023-06-30T09:32:29.943338Z"
    }
   },
   "outputs": [
    {
     "name": "stderr",
     "output_type": "stream",
     "text": [
      "Using GATK jar /Users/dascal/opt/anaconda3/envs/mamarCancer/share/gatk4-4.4.0.0-0/gatk-package-4.4.0.0-local.jar\n",
      "Running:\n",
      "    java -Dsamjdk.use_async_io_read_samtools=false -Dsamjdk.use_async_io_write_samtools=true -Dsamjdk.use_async_io_write_tribble=false -Dsamjdk.compression_level=2 -jar /Users/dascal/opt/anaconda3/envs/mamarCancer/share/gatk4-4.4.0.0-0/gatk-package-4.4.0.0-local.jar HaplotypeCaller -R ../data/hg19.fasta -I ../data/input_reads.bam -O ../data/output.vcf\n",
      "09:33:29.404 INFO  NativeLibraryLoader - Loading libgkl_compression.dylib from jar:file:/Users/dascal/opt/anaconda3/envs/mamarCancer/share/gatk4-4.4.0.0-0/gatk-package-4.4.0.0-local.jar!/com/intel/gkl/native/libgkl_compression.dylib\n",
      "09:33:29.662 INFO  HaplotypeCaller - ------------------------------------------------------------\n",
      "09:33:29.668 INFO  HaplotypeCaller - The Genome Analysis Toolkit (GATK) v4.4.0.0\n",
      "09:33:29.669 INFO  HaplotypeCaller - For support and documentation go to https://software.broadinstitute.org/gatk/\n",
      "09:33:29.669 INFO  HaplotypeCaller - Executing as dascal@Mihais-MacBook-Pro.local on Mac OS X v12.4 x86_64\n",
      "09:33:29.669 INFO  HaplotypeCaller - Java runtime: OpenJDK 64-Bit Server VM v17.0.3+7-LTS\n",
      "09:33:29.669 INFO  HaplotypeCaller - Start Date/Time: June 30, 2023 at 9:33:29 AM EEST\n",
      "09:33:29.670 INFO  HaplotypeCaller - ------------------------------------------------------------\n",
      "09:33:29.670 INFO  HaplotypeCaller - ------------------------------------------------------------\n",
      "09:33:29.671 INFO  HaplotypeCaller - HTSJDK Version: 3.0.5\n",
      "09:33:29.671 INFO  HaplotypeCaller - Picard Version: 3.0.0\n",
      "09:33:29.671 INFO  HaplotypeCaller - Built for Spark Version: 3.3.1\n",
      "09:33:29.671 INFO  HaplotypeCaller - HTSJDK Defaults.COMPRESSION_LEVEL : 2\n",
      "09:33:29.672 INFO  HaplotypeCaller - HTSJDK Defaults.USE_ASYNC_IO_READ_FOR_SAMTOOLS : false\n",
      "09:33:29.672 INFO  HaplotypeCaller - HTSJDK Defaults.USE_ASYNC_IO_WRITE_FOR_SAMTOOLS : true\n",
      "09:33:29.672 INFO  HaplotypeCaller - HTSJDK Defaults.USE_ASYNC_IO_WRITE_FOR_TRIBBLE : false\n",
      "09:33:29.672 INFO  HaplotypeCaller - Deflater: IntelDeflater\n",
      "09:33:29.672 INFO  HaplotypeCaller - Inflater: IntelInflater\n",
      "09:33:29.673 INFO  HaplotypeCaller - GCS max retries/reopens: 20\n",
      "09:33:29.674 INFO  HaplotypeCaller - Requester pays: disabled\n",
      "09:33:29.675 INFO  HaplotypeCaller - Initializing engine\n",
      "09:33:30.070 INFO  HaplotypeCaller - Done initializing engine\n",
      "09:33:30.097 INFO  HaplotypeCallerEngine - Disabling physical phasing, which is supported only for reference-model confidence output\n",
      "09:33:30.119 INFO  NativeLibraryLoader - Loading libgkl_utils.dylib from jar:file:/Users/dascal/opt/anaconda3/envs/mamarCancer/share/gatk4-4.4.0.0-0/gatk-package-4.4.0.0-local.jar!/com/intel/gkl/native/libgkl_utils.dylib\n",
      "09:33:30.183 WARN  NativeLibraryLoader - Unable to find native library: native/libgkl_pairhmm_omp.dylib\n",
      "09:33:30.184 INFO  PairHMM - OpenMP multi-threaded AVX-accelerated native PairHMM implementation is not supported\n",
      "09:33:30.184 INFO  NativeLibraryLoader - Loading libgkl_pairhmm.dylib from jar:file:/Users/dascal/opt/anaconda3/envs/mamarCancer/share/gatk4-4.4.0.0-0/gatk-package-4.4.0.0-local.jar!/com/intel/gkl/native/libgkl_pairhmm.dylib\n",
      "09:33:30.345 INFO  IntelPairHmm - Flush-to-zero (FTZ) is enabled when running PairHMM\n",
      "09:33:30.346 WARN  IntelPairHmm - Ignoring request for 4 threads; not using OpenMP implementation\n",
      "09:33:30.346 INFO  PairHMM - Using the AVX-accelerated native PairHMM implementation\n",
      "09:33:30.384 INFO  ProgressMeter - Starting traversal\n",
      "09:33:30.385 INFO  ProgressMeter -        Current Locus  Elapsed Minutes     Regions Processed   Regions/Minute\n",
      "09:33:33.258 WARN  InbreedingCoeff - InbreedingCoeff will not be calculated at position chr1:8256007 and possibly subsequent; at least 10 samples must have called genotypes\n",
      "09:33:48.434 INFO  ProgressMeter -        chr1:45795553              0.3                152790         507945.5\n",
      "09:34:12.978 INFO  ProgressMeter -        chr1:45797265              0.7                152800         215251.7\n"
     ]
    },
    {
     "ename": "KeyboardInterrupt",
     "evalue": "",
     "output_type": "error",
     "traceback": [
      "\u001B[0;31m---------------------------------------------------------------------------\u001B[0m",
      "\u001B[0;31mKeyboardInterrupt\u001B[0m                         Traceback (most recent call last)",
      "Cell \u001B[0;32mIn[16], line 1\u001B[0m\n\u001B[0;32m----> 1\u001B[0m \u001B[43msubprocess\u001B[49m\u001B[38;5;241;43m.\u001B[39;49m\u001B[43mcall\u001B[49m\u001B[43m(\u001B[49m\u001B[43m[\u001B[49m\u001B[38;5;124;43mf\u001B[39;49m\u001B[38;5;124;43m\"\u001B[39;49m\u001B[38;5;124;43mgatk HaplotypeCaller -R \u001B[39;49m\u001B[38;5;132;43;01m{\u001B[39;49;00m\u001B[43mreference_genome\u001B[49m\u001B[38;5;132;43;01m}\u001B[39;49;00m\u001B[38;5;124;43m -I \u001B[39;49m\u001B[38;5;132;43;01m{\u001B[39;49;00m\u001B[43minput_bam\u001B[49m\u001B[38;5;132;43;01m}\u001B[39;49;00m\u001B[38;5;124;43m -O \u001B[39;49m\u001B[38;5;132;43;01m{\u001B[39;49;00m\u001B[43moutput_vcf\u001B[49m\u001B[38;5;132;43;01m}\u001B[39;49;00m\u001B[38;5;124;43m\"\u001B[39;49m\u001B[43m]\u001B[49m\u001B[43m,\u001B[49m\u001B[43m \u001B[49m\u001B[43mshell\u001B[49m\u001B[38;5;241;43m=\u001B[39;49m\u001B[38;5;28;43;01mTrue\u001B[39;49;00m\u001B[43m)\u001B[49m\n",
      "File \u001B[0;32m~/opt/anaconda3/envs/mamarCancer/lib/python3.10/subprocess.py:347\u001B[0m, in \u001B[0;36mcall\u001B[0;34m(timeout, *popenargs, **kwargs)\u001B[0m\n\u001B[1;32m    345\u001B[0m \u001B[38;5;28;01mwith\u001B[39;00m Popen(\u001B[38;5;241m*\u001B[39mpopenargs, \u001B[38;5;241m*\u001B[39m\u001B[38;5;241m*\u001B[39mkwargs) \u001B[38;5;28;01mas\u001B[39;00m p:\n\u001B[1;32m    346\u001B[0m     \u001B[38;5;28;01mtry\u001B[39;00m:\n\u001B[0;32m--> 347\u001B[0m         \u001B[38;5;28;01mreturn\u001B[39;00m \u001B[43mp\u001B[49m\u001B[38;5;241;43m.\u001B[39;49m\u001B[43mwait\u001B[49m\u001B[43m(\u001B[49m\u001B[43mtimeout\u001B[49m\u001B[38;5;241;43m=\u001B[39;49m\u001B[43mtimeout\u001B[49m\u001B[43m)\u001B[49m\n\u001B[1;32m    348\u001B[0m     \u001B[38;5;28;01mexcept\u001B[39;00m:  \u001B[38;5;66;03m# Including KeyboardInterrupt, wait handled that.\u001B[39;00m\n\u001B[1;32m    349\u001B[0m         p\u001B[38;5;241m.\u001B[39mkill()\n",
      "File \u001B[0;32m~/opt/anaconda3/envs/mamarCancer/lib/python3.10/subprocess.py:1209\u001B[0m, in \u001B[0;36mPopen.wait\u001B[0;34m(self, timeout)\u001B[0m\n\u001B[1;32m   1207\u001B[0m     endtime \u001B[38;5;241m=\u001B[39m _time() \u001B[38;5;241m+\u001B[39m timeout\n\u001B[1;32m   1208\u001B[0m \u001B[38;5;28;01mtry\u001B[39;00m:\n\u001B[0;32m-> 1209\u001B[0m     \u001B[38;5;28;01mreturn\u001B[39;00m \u001B[38;5;28;43mself\u001B[39;49m\u001B[38;5;241;43m.\u001B[39;49m\u001B[43m_wait\u001B[49m\u001B[43m(\u001B[49m\u001B[43mtimeout\u001B[49m\u001B[38;5;241;43m=\u001B[39;49m\u001B[43mtimeout\u001B[49m\u001B[43m)\u001B[49m\n\u001B[1;32m   1210\u001B[0m \u001B[38;5;28;01mexcept\u001B[39;00m \u001B[38;5;167;01mKeyboardInterrupt\u001B[39;00m:\n\u001B[1;32m   1211\u001B[0m     \u001B[38;5;66;03m# https://bugs.python.org/issue25942\u001B[39;00m\n\u001B[1;32m   1212\u001B[0m     \u001B[38;5;66;03m# The first keyboard interrupt waits briefly for the child to\u001B[39;00m\n\u001B[1;32m   1213\u001B[0m     \u001B[38;5;66;03m# exit under the common assumption that it also received the ^C\u001B[39;00m\n\u001B[1;32m   1214\u001B[0m     \u001B[38;5;66;03m# generated SIGINT and will exit rapidly.\u001B[39;00m\n\u001B[1;32m   1215\u001B[0m     \u001B[38;5;28;01mif\u001B[39;00m timeout \u001B[38;5;129;01mis\u001B[39;00m \u001B[38;5;129;01mnot\u001B[39;00m \u001B[38;5;28;01mNone\u001B[39;00m:\n",
      "File \u001B[0;32m~/opt/anaconda3/envs/mamarCancer/lib/python3.10/subprocess.py:1943\u001B[0m, in \u001B[0;36mPopen._wait\u001B[0;34m(self, timeout)\u001B[0m\n\u001B[1;32m   1941\u001B[0m \u001B[38;5;28;01mif\u001B[39;00m \u001B[38;5;28mself\u001B[39m\u001B[38;5;241m.\u001B[39mreturncode \u001B[38;5;129;01mis\u001B[39;00m \u001B[38;5;129;01mnot\u001B[39;00m \u001B[38;5;28;01mNone\u001B[39;00m:\n\u001B[1;32m   1942\u001B[0m     \u001B[38;5;28;01mbreak\u001B[39;00m  \u001B[38;5;66;03m# Another thread waited.\u001B[39;00m\n\u001B[0;32m-> 1943\u001B[0m (pid, sts) \u001B[38;5;241m=\u001B[39m \u001B[38;5;28;43mself\u001B[39;49m\u001B[38;5;241;43m.\u001B[39;49m\u001B[43m_try_wait\u001B[49m\u001B[43m(\u001B[49m\u001B[38;5;241;43m0\u001B[39;49m\u001B[43m)\u001B[49m\n\u001B[1;32m   1944\u001B[0m \u001B[38;5;66;03m# Check the pid and loop as waitpid has been known to\u001B[39;00m\n\u001B[1;32m   1945\u001B[0m \u001B[38;5;66;03m# return 0 even without WNOHANG in odd situations.\u001B[39;00m\n\u001B[1;32m   1946\u001B[0m \u001B[38;5;66;03m# http://bugs.python.org/issue14396.\u001B[39;00m\n\u001B[1;32m   1947\u001B[0m \u001B[38;5;28;01mif\u001B[39;00m pid \u001B[38;5;241m==\u001B[39m \u001B[38;5;28mself\u001B[39m\u001B[38;5;241m.\u001B[39mpid:\n",
      "File \u001B[0;32m~/opt/anaconda3/envs/mamarCancer/lib/python3.10/subprocess.py:1901\u001B[0m, in \u001B[0;36mPopen._try_wait\u001B[0;34m(self, wait_flags)\u001B[0m\n\u001B[1;32m   1899\u001B[0m \u001B[38;5;250m\u001B[39m\u001B[38;5;124;03m\"\"\"All callers to this function MUST hold self._waitpid_lock.\"\"\"\u001B[39;00m\n\u001B[1;32m   1900\u001B[0m \u001B[38;5;28;01mtry\u001B[39;00m:\n\u001B[0;32m-> 1901\u001B[0m     (pid, sts) \u001B[38;5;241m=\u001B[39m \u001B[43mos\u001B[49m\u001B[38;5;241;43m.\u001B[39;49m\u001B[43mwaitpid\u001B[49m\u001B[43m(\u001B[49m\u001B[38;5;28;43mself\u001B[39;49m\u001B[38;5;241;43m.\u001B[39;49m\u001B[43mpid\u001B[49m\u001B[43m,\u001B[49m\u001B[43m \u001B[49m\u001B[43mwait_flags\u001B[49m\u001B[43m)\u001B[49m\n\u001B[1;32m   1902\u001B[0m \u001B[38;5;28;01mexcept\u001B[39;00m \u001B[38;5;167;01mChildProcessError\u001B[39;00m:\n\u001B[1;32m   1903\u001B[0m     \u001B[38;5;66;03m# This happens if SIGCLD is set to be ignored or waiting\u001B[39;00m\n\u001B[1;32m   1904\u001B[0m     \u001B[38;5;66;03m# for child processes has otherwise been disabled for our\u001B[39;00m\n\u001B[1;32m   1905\u001B[0m     \u001B[38;5;66;03m# process.  This child is dead, we can't get the status.\u001B[39;00m\n\u001B[1;32m   1906\u001B[0m     pid \u001B[38;5;241m=\u001B[39m \u001B[38;5;28mself\u001B[39m\u001B[38;5;241m.\u001B[39mpid\n",
      "\u001B[0;31mKeyboardInterrupt\u001B[0m: "
     ]
    }
   ],
   "source": [
    "subprocess.call([f\"gatk HaplotypeCaller -R {reference_genome} -I {input_bam} -O {output_vcf}\"], shell=True)"
   ]
  },
  {
   "cell_type": "raw",
   "source": [
    "patient VCF plting"
   ],
   "metadata": {
    "collapsed": false
   }
  },
  {
   "cell_type": "code",
   "execution_count": null,
   "metadata": {
    "ExecuteTime": {
     "start_time": "2023-06-29T20:08:24.836924Z",
     "end_time": "2023-06-29T20:08:25.179369Z"
    }
   },
   "outputs": [],
   "source": [
    "import pysam\n",
    "import matplotlib.pyplot as plt\n",
    "\n",
    "vcf_reader = pysam.VariantFile(open(output_vcf, \"r\"))\n",
    "\n",
    "# Păstrați informațiile relevante pentru grafic (de exemplu, AF - frecvența alelei alternative)\n",
    "allele_frequencies = []\n",
    "for record in vcf_reader:\n",
    "    allele_frequencies.append(record.info.get(\"AF\")[0])\n",
    "\n",
    "# Plasați graficul\n",
    "plt.plot(allele_frequencies)\n",
    "plt.xlabel(\"Variant Index\")\n",
    "plt.ylabel(\"Allele Frequency\")\n",
    "plt.title(\"VCF Variant Allele Frequency\")\n",
    "plt.show()"
   ]
  },
  {
   "cell_type": "code",
   "execution_count": null,
   "metadata": {
    "ExecuteTime": {
     "start_time": "2023-06-29T20:09:40.303134Z",
     "end_time": "2023-06-29T20:09:40.603327Z"
    }
   },
   "outputs": [],
   "source": [
    "import matplotlib.pyplot as plt\n",
    "\n",
    "# Lista pentru a stoca calitățile\n",
    "qualities = []\n",
    "\n",
    "# Citirea fișierului VCF și extragerea calităților\n",
    "with open(output_vcf, 'r') as file:\n",
    "    for line in file:\n",
    "        if not line.startswith('#'):\n",
    "            data = line.strip().split('\\t')\n",
    "            quality = float(data[5])\n",
    "            qualities.append(quality)\n",
    "\n",
    "# Crearea histogramă a calităților\n",
    "plt.hist(qualities, bins=20, edgecolor='black')\n",
    "\n",
    "# Etichetele axelor\n",
    "plt.xlabel('Quality')\n",
    "plt.ylabel('Count')\n",
    "\n",
    "# Titlul diagramei\n",
    "plt.title('Quality Histogram')\n",
    "\n",
    "# Afișarea diagramei\n",
    "plt.show()\n"
   ]
  },
  {
   "cell_type": "code",
   "execution_count": null,
   "outputs": [],
   "source": [
    "import matplotlib.pyplot as plt\n",
    "\n",
    "# Dicționar pentru a stoca frecvențele alelelor\n",
    "allele_frequencies = {}\n",
    "\n",
    "# Citirea fișierului VCF și extragerea informațiilor despre frecvențele alelelor\n",
    "with open(output_vcf, 'r') as file:\n",
    "    for line in file:\n",
    "        if not line.startswith('#'):\n",
    "            data = line.strip().split('\\t')\n",
    "            info = data[7].split(';')\n",
    "            for item in info:\n",
    "                if item.startswith('AF='):\n",
    "                    freq = item.split('=')[1]\n",
    "                    if len(item.split(',')) > 1:\n",
    "                        continue\n",
    "                    print(freq)\n",
    "                    allele_frequency = float(freq)\n",
    "                    allele_frequencies['ALT'] = allele_frequency\n",
    "                    allele_frequencies['REF'] = 1 - allele_frequency\n",
    "\n",
    "# Crearea diagramă de tip \"pie\"\n",
    "labels = ['Reference (REF)', 'Alternate (ALT)']\n",
    "sizes = [allele_frequencies['REF'], allele_frequencies['ALT']]\n",
    "colors = ['#1f77b4', '#ff7f0e']\n",
    "explode = (0.1, 0)  # Pentru a separa puțin secțiunea \"Reference\"\n",
    "\n",
    "plt.pie(sizes, explode=explode, labels=labels, colors=colors, autopct='%1.1f%%', startangle=90)\n",
    "\n",
    "# Aspectul circular\n",
    "plt.axis('equal')\n",
    "\n",
    "# Titlul diagramei\n",
    "plt.title('Allele Frequencies')\n",
    "\n",
    "# Afișarea diagramei\n",
    "plt.show()\n"
   ],
   "metadata": {
    "collapsed": false,
    "ExecuteTime": {
     "start_time": "2023-06-29T20:18:16.007270Z",
     "end_time": "2023-06-29T20:18:16.198323Z"
    }
   }
  }
 ],
 "metadata": {
  "kernelspec": {
   "display_name": "Python 3 (ipykernel)",
   "language": "python",
   "name": "python3"
  },
  "language_info": {
   "codemirror_mode": {
    "name": "ipython",
    "version": 2
   },
   "file_extension": ".py",
   "mimetype": "text/x-python",
   "name": "python",
   "nbconvert_exporter": "python",
   "pygments_lexer": "ipython2",
   "version": "2.7.6"
  }
 },
 "nbformat": 4,
 "nbformat_minor": 1
}
